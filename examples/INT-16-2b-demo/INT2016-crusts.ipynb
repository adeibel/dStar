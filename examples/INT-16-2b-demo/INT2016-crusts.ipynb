{
 "cells": [
  {
   "cell_type": "markdown",
   "metadata": {},
   "source": [
    "# Cooling Crust Demonstration, INT Workshop 16-2b\n",
    "Edward Brown\n",
    "20 June 2016"
   ]
  },
  {
   "cell_type": "code",
   "execution_count": null,
   "metadata": {
    "collapsed": false
   },
   "outputs": [],
   "source": [
    "%matplotlib inline\n",
    "from __future__ import print_function, division\n",
    "import numpy as np\n",
    "import matplotlib.pyplot as plt\n",
    "from matplotlib import rc\n",
    "import scipy.constants as sc\n",
    "\n",
    "# class to read in dStar output files\n",
    "from reader import dStarCrustReader, dStarReader\n",
    "\n",
    "# plot format\n",
    "charsize=14\n",
    "major_ticklength=0.6*charsize\n",
    "major_tickwidth=0.9\n",
    "minor_ticklength=0.3*charsize\n",
    "minor_tickwidth=0.7\n",
    "rc('mathtext',**{'fontset':'stixsans'})\n",
    "rc('font',**{'size':charsize,'sans-serif':'Bitstream Vera Sans'})\n",
    "rc('axes',**{'titlesize':charsize,'labelsize':charsize})\n",
    "rc('xtick',**{'major.size':major_ticklength,\n",
    "              'major.width':major_tickwidth,'minor.size':minor_ticklength,\n",
    "              'minor.width':minor_tickwidth,'labelsize':charsize})\n",
    "rc('ytick',**{'major.size':major_ticklength,'major.width':major_tickwidth,\n",
    "              'minor.size':minor_ticklength,'minor.width':minor_tickwidth,'labelsize':charsize})"
   ]
  },
  {
   "cell_type": "markdown",
   "metadata": {},
   "source": [
    "## Auxilliary Functions\n",
    "First, we define some functions: a routine to compute limits for a logarithmic axis; a routine to compute the thermal time\n",
    "\\begin{equation}\n",
    "\\newcommand{\\Teff}{T_{\\mathrm{eff}}^\\infty}\n",
    "\\tau = \\frac{1}{4}\\left[ \\int \\left(\\frac{\\rho C}{K}\\right)^{1/2}\\mathrm{d}r\\right]^2;\n",
    "\\end{equation}\n",
    "and a routine to compute the radius from the area."
   ]
  },
  {
   "cell_type": "code",
   "execution_count": null,
   "metadata": {
    "collapsed": true
   },
   "outputs": [],
   "source": [
    "def thermal_time(c):\n",
    "    '''\n",
    "    Returns an array tau containing the thermal diffusion time to the surface to the location \n",
    "    of each crust zone.\n",
    "    \n",
    "    c: of type dStarCrustReader\n",
    "    '''\n",
    "    sc.day\n",
    "    P = c.crust.pressure[0,:]\n",
    "    rho = c.crust.density[0,:]\n",
    "    g = c.crust.gravity[0,:]\n",
    "    K = c.crust.K[0,:]\n",
    "    Cp = c.crust.cp[0,:]\n",
    "    kernel = np.sqrt(rho*Cp/K)/rho/g\n",
    "    dP = np.zeros_like(kernel)\n",
    "    dP[1:] = P[1:]-P[0:-1]\n",
    "    dP[0] = P[0]\n",
    "    tau = np.zeros_like(kernel)\n",
    "    tau[0] = 0.25*(kernel[0]*dP[0])**2 / sc.day\n",
    "    for i in range(1,len(tau)):\n",
    "        tau[i] = 0.25*(np.dot(kernel[0:i],dP[0:i]))**2 / sc.day\n",
    "    return tau\n",
    "\n",
    "def radius(area):\n",
    "    return np.sqrt(area/4.0/np.pi)*1.0e-5"
   ]
  },
  {
   "cell_type": "markdown",
   "metadata": {},
   "source": [
    "Next we define functions to make common plots: the surface effective temperature $\\Teff$ during cooling and theh temperature in the crust during outburst."
   ]
  },
  {
   "cell_type": "code",
   "execution_count": null,
   "metadata": {
    "collapsed": true
   },
   "outputs": [],
   "source": [
    "MeVfm3 = 10.0*sc.eV*1.0e6/sc.fermi**3\n",
    "\n",
    "def loglimits(x,delta=0.05):\n",
    "    '''\n",
    "    Returns two limiting values that enclose the array x with a padding \n",
    "    of delta (in log-space).\n",
    "    \n",
    "    x: array-like\n",
    "    '''\n",
    "    lx = np.log10(x)\n",
    "    lmin,lmax = lx.min(),lx.max()\n",
    "    d = delta*(lmax-lmin)\n",
    "    return 10.0**(lmin-d),10.0**(lmax+d)\n",
    "\n",
    "def grayscale(n,light_to_dark=True,scale=0.9):\n",
    "    '''\n",
    "    returns an array of grayscale values (length `n`) ranging from\n",
    "    `scale` to 0; if `light_to_dark=False`, then the order is reversed.\n",
    "    '''\n",
    "    if light_to_dark:\n",
    "        return [str(scale*(n-i-1)/(n-1)) for i in range(n)]\n",
    "    else:\n",
    "        return [str(scale*i/(n-1)) for i in range(n)]\n",
    "    \n",
    "def cooling_plot(h,ePhi):\n",
    "    # store cooling times\n",
    "    t = h.data.time\n",
    "    quiescent = np.where(t > 0.0)\n",
    "    t = t[quiescent]\n",
    "    Teff = 10.0**h.data.lg_Teff[quiescent]*sc.k/sc.eV*ePhi\n",
    "\n",
    "    plt.xlabel(r'$t$ [d]')\n",
    "    plt.ylabel(r'$T_{\\mathrm{eff}}^\\infty$ [K]')\n",
    "    plt.xlim(loglimits(t))\n",
    "    plt.semilogx(t,Teff,color='k')\n",
    "    plt.tight_layout()\n",
    "\n",
    "def outburst_plot(c):\n",
    "    tout = np.where(c.times <= 0.0)[0]\n",
    "    clrs = grayscale(len(tout))\n",
    "    T = c.crust.temperature[tout,:]*1.0e-9\n",
    "    plt.xlim(loglimits(P))\n",
    "    plt.xlabel(r'$P\\;[\\mathrm{MeV\\,fm^{-3}}]$')\n",
    "    plt.ylabel(r'$T$ [GK]')\n",
    "    for i in range(T.shape[0]):\n",
    "        plt.semilogx(P,T[i,:],color=clrs[i])\n",
    "    plt.tight_layout()"
   ]
  },
  {
   "cell_type": "markdown",
   "metadata": {},
   "source": [
    "## An impure crust\n",
    "As a first case, we set the impurity parameter $Q=100$.  Of course, for such a large $Q$ the meaning of impurity breaks down; it is closer to the mark to say that the lattice is very disordered (amporphous?) in this case.  As a result, the thermal conductivity is low and the thermal diffusion is slow."
   ]
  },
  {
   "cell_type": "code",
   "execution_count": null,
   "metadata": {
    "collapsed": false
   },
   "outputs": [],
   "source": [
    "c = dStarCrustReader('LOGS-Q100-H0',dt=10)\n",
    "crust = c.crust\n",
    "R = radius(crust.area[0,:])\n",
    "P = crust.pressure[0,:]\n",
    "drip = np.where(crust.Xn[0,:] > 0.0)\n",
    "Pnuc = P/MeVfm3\n",
    "ePhi = crust.ePhi[0,0]"
   ]
  },
  {
   "cell_type": "markdown",
   "metadata": {},
   "source": [
    "Before analyzing the cooling, we plot the radius as a function of pressure and highlight the inner crust."
   ]
  },
  {
   "cell_type": "code",
   "execution_count": null,
   "metadata": {
    "collapsed": false
   },
   "outputs": [],
   "source": [
    "xmin,xmax = Pnuc.min(),Pnuc.max()\n",
    "dx = 0.05*(np.log10(xmax/xmin))\n",
    "xmin,xmax = 10.0**(np.log10(xmin)-dx),10.0**(np.log10(xmax)+dx)\n",
    "ymin,ymax = 11.0,11.85\n",
    "plt.xlim(xmin,xmax)\n",
    "plt.ylim(ymin,ymax)\n",
    "plt.semilogx(Pnuc,R,color='k',label='outer crust')\n",
    "plt.semilogx(Pnuc[drip],R[drip],linewidth=4,color='0.4',solid_capstyle='round',\n",
    "             label='inner crust')\n",
    "plt.xlabel(r'$P\\;[\\mathrm{MeV\\,fm^{-3}}]$')\n",
    "plt.ylabel(r'$R = \\sqrt{\\mathcal{A}/(4\\pi)}$ [km]')\n",
    "plt.legend(loc='lower left',frameon=False,fontsize='small')\n",
    "plt.tight_layout()\n",
    "plt.savefig('radius.pdf',format='pdf',facecolor='none',edgecolor='none')"
   ]
  },
  {
   "cell_type": "markdown",
   "metadata": {},
   "source": [
    "Now we read in the history file and plot the observed surface effective temperature $\\Teff$."
   ]
  },
  {
   "cell_type": "code",
   "execution_count": null,
   "metadata": {
    "collapsed": false
   },
   "outputs": [],
   "source": [
    "h = dStarReader('LOGS-Q100-H0/history.data')\n",
    "cooling_plot(h,ePhi)\n",
    "plt.savefig('cooling-Q100-H0.pdf',format='pdf',facecolor='none',edgecolor='none')"
   ]
  },
  {
   "cell_type": "markdown",
   "metadata": {},
   "source": [
    "The cooling timescale is indeed long, $> 1000\\,\\mathrm{d}$.  Let us check the thermal time."
   ]
  },
  {
   "cell_type": "code",
   "execution_count": null,
   "metadata": {
    "collapsed": false
   },
   "outputs": [],
   "source": [
    "tau = thermal_time(c)\n",
    "P = c.crust.pressure[0,:]/MeVfm3\n",
    "plt.xlim(loglimits(P))\n",
    "plt.xlabel(r'$P\\;[\\mathrm{MeV\\,fm^{-3}}]$')\n",
    "plt.ylabel(r'$\\tau$ [d]')\n",
    "plt.loglog(P,tau,color='k')\n",
    "plt.tight_layout()\n",
    "plt.savefig('tau-Q100-H0.pdf',format='pdf',facecolor='none',edgecolor='none')"
   ]
  },
  {
   "cell_type": "markdown",
   "metadata": {},
   "source": [
    "Finally, let us plot the temperature evolution through the outburst."
   ]
  },
  {
   "cell_type": "code",
   "execution_count": null,
   "metadata": {
    "collapsed": false
   },
   "outputs": [],
   "source": [
    "outburst_plot(c)\n",
    "plt.savefig('profile-Q100-H0.pdf',format='pdf',facecolor='none',edgecolor='none')\n",
    "tout = np.where(c.times <= 0)[0][0]\n",
    "T0 = c.crust.temperature[tout,:]*1.0e-9\n",
    "P0 = P"
   ]
  },
  {
   "cell_type": "markdown",
   "metadata": {},
   "source": [
    "## A more pure crust\n",
    "Now let us set $Q = 4$ and look at the cooling surface temperature."
   ]
  },
  {
   "cell_type": "code",
   "execution_count": null,
   "metadata": {
    "collapsed": false
   },
   "outputs": [],
   "source": [
    "h4 = dStarReader('LOGS-Q4-H0/history.data')\n",
    "cooling_plot(h4,ePhi)\n",
    "plt.savefig('cooling-Q4-H0.pdf',format='pdf',facecolor='none',edgecolor='none')"
   ]
  },
  {
   "cell_type": "markdown",
   "metadata": {},
   "source": [
    "Let's compare the thermal diffusion time with that for the high-impurity crust."
   ]
  },
  {
   "cell_type": "code",
   "execution_count": null,
   "metadata": {
    "collapsed": false
   },
   "outputs": [],
   "source": [
    "c4 = dStarCrustReader('LOGS-Q4-H0')\n",
    "P = c4.crust.pressure[0,:]/MeVfm3\n",
    "plt.xlim(loglimits(P))\n",
    "plt.xlabel(r'$P\\;[\\mathrm{MeV\\,fm^{-3}}]$')\n",
    "plt.ylabel(r'$\\tau$ [d]')\n",
    "plt.loglog(P,thermal_time(c4),color='k')\n",
    "plt.loglog(P,thermal_time(c),linestyle=':',color='k')\n",
    "plt.tight_layout()\n",
    "plt.savefig('tau-Q4-H0.pdf',format='pdf',facecolor='none',edgecolor='none')"
   ]
  },
  {
   "cell_type": "markdown",
   "metadata": {},
   "source": [
    "As expected from the evolution of the surface temperature, the thermal diffusion time is an order of magnitude less in this case.  Because the thermal diffusion time is now less than the duration of the outburst, the crust has time to thermally relax; compare the profile of temperature in crust with that for the high-impurity case."
   ]
  },
  {
   "cell_type": "code",
   "execution_count": null,
   "metadata": {
    "collapsed": false
   },
   "outputs": [],
   "source": [
    "outburst_plot(c4)\n",
    "plt.savefig('profile-Q4-H0.pdf',format='pdf',facecolor='none',edgecolor='none')"
   ]
  },
  {
   "cell_type": "markdown",
   "metadata": {},
   "source": [
    "This explains why $\\Teff$ is so constant during the first 100 days: the outer layers of the star are already thermally relaxed, so the flux is unchanging until the inner crust has time to evolve.  To see this, let's plot the temperature as a function of $\\tau$."
   ]
  },
  {
   "cell_type": "code",
   "execution_count": null,
   "metadata": {
    "collapsed": false
   },
   "outputs": [],
   "source": [
    "tout = np.where(c4.times == 0.0)[0][0]\n",
    "indcs = [tout,tout+1,tout+3,tout+6,tout+8]\n",
    "Ts = c4.crust.temperature[indcs,:]*1.0e-9\n",
    "clrs = grayscale(len(indcs))\n",
    "times = c4.times[indcs]\n",
    "plt.xlim(loglimits(tau,delta=0.2))\n",
    "plt.xlabel(r'$\\tau$ [d]')\n",
    "plt.ylabel(r'$T$ [GK]')\n",
    "for i in range(len(indcs)):\n",
    "    plt.semilogx(tau,Ts[i,:],color=clrs[i])\n",
    "    if i > len(indcs)-3:\n",
    "        tstr = r'$t = {0:0.0f}$ d'.format(times[i])\n",
    "        plt.annotate(s=tstr,xy=(tau[0],Ts[i,0]),verticalalignment='center',\n",
    "                     horizontalalignment='right',color='k',fontsize='small')\n",
    "plt.tight_layout()\n",
    "plt.savefig('Ttau-Q4-H0.pdf',format='pdf',facecolor='none',edgecolor='none')"
   ]
  },
  {
   "cell_type": "markdown",
   "metadata": {},
   "source": [
    "To get $\\Teff$ to cool at early times, we need the temperature to decrease with depth in the outer crust.  We achieve this by adding a heat source, of strength $L = 1.7\\,\\mathrm{MeV}\\times \\mathrm{d}\\dot{M}/\\mathrm{d}t$."
   ]
  },
  {
   "cell_type": "code",
   "execution_count": null,
   "metadata": {
    "collapsed": false
   },
   "outputs": [],
   "source": [
    "h17 = dStarReader('LOGS-Q4-H1.7/history.data')\n",
    "cooling_plot(h17,ePhi)\n",
    "plt.savefig('cooling-Q4-H1.7.pdf',format='pdf',facecolor='none',edgecolor='none')"
   ]
  },
  {
   "cell_type": "code",
   "execution_count": null,
   "metadata": {
    "collapsed": false
   },
   "outputs": [],
   "source": [
    "c17 = dStarCrustReader('LOGS-Q4-H1.7')\n",
    "outburst_plot(c17)\n",
    "plt.savefig('profile-Q4-H1.7.pdf',format='pdf',facecolor='none',edgecolor='none')"
   ]
  },
  {
   "cell_type": "markdown",
   "metadata": {},
   "source": [
    "At a time $t$ after the end of the outburst, the crust has cooled down to a depth where $\\tau \\approx t$.  The evolution of the surface temperature $\\Teff$ is therefore mapping out the crust temperature as a function of depth."
   ]
  },
  {
   "cell_type": "code",
   "execution_count": null,
   "metadata": {
    "collapsed": false,
    "scrolled": true
   },
   "outputs": [],
   "source": [
    "tout = np.where(c17.times == 0.0)[0][0]\n",
    "indcs = [tout,tout+1,tout+3,tout+6,tout+8,tout+12,tout+16]\n",
    "Ts = c17.crust.temperature[indcs,:]*1.0e-9\n",
    "clrs = grayscale(len(indcs))\n",
    "times = c17.times[indcs]\n",
    "plt.xlim(loglimits(tau))\n",
    "plt.xlabel(r'$\\tau$ [d]')\n",
    "plt.ylabel(r'$T$ [GK]')\n",
    "for i in range(len(indcs)):\n",
    "    plt.semilogx(tau,Ts[i,:],color=clrs[i])\n",
    "    if i > len(indcs)-5:\n",
    "        tstr = r'$t = {0:0.0f}$ d'.format(times[i])\n",
    "        plt.annotate(s=tstr,xy=(1.0,Ts[i,0]),verticalalignment='bottom',\n",
    "                     color='k',fontsize='small')\n",
    "plt.tight_layout()\n",
    "plt.savefig('Ttau-Q4-H1.7.pdf',format='pdf',facecolor='none',edgecolor='none')"
   ]
  },
  {
   "cell_type": "code",
   "execution_count": null,
   "metadata": {
    "collapsed": true
   },
   "outputs": [],
   "source": []
  }
 ],
 "metadata": {
  "kernelspec": {
   "display_name": "Python 2",
   "language": "python",
   "name": "python2"
  },
  "language_info": {
   "codemirror_mode": {
    "name": "ipython",
    "version": 2
   },
   "file_extension": ".py",
   "mimetype": "text/x-python",
   "name": "python",
   "nbconvert_exporter": "python",
   "pygments_lexer": "ipython2",
   "version": "2.7.10"
  }
 },
 "nbformat": 4,
 "nbformat_minor": 0
}
